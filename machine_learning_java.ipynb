{
  "nbformat": 4,
  "nbformat_minor": 0,
  "metadata": {
    "colab": {
      "name": "machine learning.java",
      "provenance": [],
      "collapsed_sections": [],
      "authorship_tag": "ABX9TyOQQd7epnEotJOpW4Q4jdo0",
      "include_colab_link": true
    },
    "kernelspec": {
      "name": "python3",
      "display_name": "Python 3"
    },
    "language_info": {
      "name": "python"
    }
  },
  "cells": [
    {
      "cell_type": "markdown",
      "metadata": {
        "id": "view-in-github",
        "colab_type": "text"
      },
      "source": [
        "<a href=\"https://colab.research.google.com/github/SlyviaCC/MachineLearningLab/blob/main/machine_learning_java.ipynb\" target=\"_parent\"><img src=\"https://colab.research.google.com/assets/colab-badge.svg\" alt=\"Open In Colab\"/></a>"
      ]
    },
    {
      "cell_type": "code",
      "execution_count": null,
      "metadata": {
        "colab": {
          "base_uri": "https://localhost:8080/"
        },
        "id": "7jdCPh6o63Zw",
        "outputId": "f904ca9d-53e3-4707-c7cf-6ba62d99147b"
      },
      "outputs": [
        {
          "output_type": "stream",
          "name": "stdout",
          "text": [
            "Downloading data from https://storage.googleapis.com/tensorflow/tf-keras-datasets/train-labels-idx1-ubyte.gz\n",
            "32768/29515 [=================================] - 0s 0us/step\n",
            "40960/29515 [=========================================] - 0s 0us/step\n",
            "Downloading data from https://storage.googleapis.com/tensorflow/tf-keras-datasets/train-images-idx3-ubyte.gz\n",
            "26427392/26421880 [==============================] - 0s 0us/step\n",
            "26435584/26421880 [==============================] - 0s 0us/step\n",
            "Downloading data from https://storage.googleapis.com/tensorflow/tf-keras-datasets/t10k-labels-idx1-ubyte.gz\n",
            "16384/5148 [===============================================================================================] - 0s 0us/step\n",
            "Downloading data from https://storage.googleapis.com/tensorflow/tf-keras-datasets/t10k-images-idx3-ubyte.gz\n",
            "4423680/4422102 [==============================] - 0s 0us/step\n",
            "4431872/4422102 [==============================] - 0s 0us/step\n"
          ]
        }
      ],
      "source": [
        "from tensorflow.keras.datasets import fashion_mnist\n",
        "(train_X,train_Y), (test_X,test_Y) = fashion_mnist.load_data()"
      ]
    },
    {
      "cell_type": "code",
      "source": [
        "import numpy as np\n",
        "from tensorflow.keras.utils import to_categorical\n",
        "import matplotlib.pyplot as plt\n",
        "%matplotlib inline\n",
        "print('Training data shape : ', train_X.shape, train_Y.shape)\n",
        "print('Testing data shape : ', test_X.shape, test_Y.shape)"
      ],
      "metadata": {
        "colab": {
          "base_uri": "https://localhost:8080/"
        },
        "id": "o5Ix7WIO7Kr1",
        "outputId": "276d5723-c2d9-4b8c-ace3-17359a37a81b"
      },
      "execution_count": null,
      "outputs": [
        {
          "output_type": "stream",
          "name": "stdout",
          "text": [
            "Training data shape :  (60000, 28, 28) (60000,)\n",
            "Testing data shape :  (10000, 28, 28) (10000,)\n"
          ]
        }
      ]
    },
    {
      "cell_type": "code",
      "source": [
        "# Find the unique numbers from the train labels\n",
        "classes = np.unique(train_Y)\n",
        "nClasses = len(classes)\n",
        "print('Total number of outputs : ', nClasses)\n",
        "print('Output classes : ', classes)"
      ],
      "metadata": {
        "colab": {
          "base_uri": "https://localhost:8080/"
        },
        "id": "O8pIfenY7O9J",
        "outputId": "e1668143-0e1f-4a0b-cbb3-c09bd9aef4fb"
      },
      "execution_count": null,
      "outputs": [
        {
          "output_type": "stream",
          "name": "stdout",
          "text": [
            "Total number of outputs :  10\n",
            "Output classes :  [0 1 2 3 4 5 6 7 8 9]\n"
          ]
        }
      ]
    },
    {
      "cell_type": "code",
      "source": [
        "plt.figure(figsize=[5,5])\n",
        "# Display the first image in training data\n",
        "plt.subplot(121)\n",
        "plt.imshow(train_X[0,:,:], cmap='gray')\n",
        "plt.title(\"Ground Truth : {}\".format(train_Y[0]))\n",
        "# Display the first image in testing data\n",
        "plt.subplot(122)\n",
        "plt.imshow(test_X[0,:,:], cmap='gray')\n",
        "plt.title(\"Ground Truth : {}\".format(test_Y[0]))"
      ],
      "metadata": {
        "colab": {
          "base_uri": "https://localhost:8080/",
          "height": 209
        },
        "id": "Bmmyv-1Q7Sm7",
        "outputId": "ca55051d-f149-4ea9-8473-82ba146281c7"
      },
      "execution_count": null,
      "outputs": [
        {
          "output_type": "execute_result",
          "data": {
            "text/plain": [
              "Text(0.5, 1.0, 'Ground Truth : 9')"
            ]
          },
          "metadata": {},
          "execution_count": 4
        },
        {
          "output_type": "display_data",
          "data": {
            "text/plain": [
              "<Figure size 360x360 with 2 Axes>"
            ],
            "image/png": "[encoded data removed]"
          },
          "metadata": {
            "needs_background": "light"
          }
        }
      ]
    },
    {
      "cell_type": "code",
      "source": [
        "train_X = train_X.reshape(-1, 28,28, 1)\n",
        "test_X = test_X.reshape(-1, 28,28, 1)\n",
        "train_X.shape, test_X.shape"
      ],
      "metadata": {
        "colab": {
          "base_uri": "https://localhost:8080/"
        },
        "id": "wZx6JUZ87VFj",
        "outputId": "e7fde085-617a-4ee6-dec2-287f1896f7d7"
      },
      "execution_count": null,
      "outputs": [
        {
          "output_type": "execute_result",
          "data": {
            "text/plain": [
              "((60000, 28, 28, 1), (10000, 28, 28, 1))"
            ]
          },
          "metadata": {},
          "execution_count": 5
        }
      ]
    },
    {
      "cell_type": "code",
      "source": [
        "train_X = train_X.astype('float32')\n",
        "test_X = test_X.astype('float32')\n",
        "train_X = train_X / 255.\n",
        "test_X = test_X / 255."
      ],
      "metadata": {
        "id": "8Fbtg-j77aRz"
      },
      "execution_count": null,
      "outputs": []
    },
    {
      "cell_type": "code",
      "source": [
        "# Change the labels from categorical to one-hot encoding\n",
        "train_Y_one_hot = to_categorical(train_Y)\n",
        "test_Y_one_hot = to_categorical(test_Y)\n",
        "# Display the change for category label using one-hot encoding\n",
        "print('Original label:', train_Y[0])\n",
        "print('After conversion to one-hot:', train_Y_one_hot[0])"
      ],
      "metadata": {
        "colab": {
          "base_uri": "https://localhost:8080/"
        },
        "id": "IbtdrJ8Z7gG6",
        "outputId": "94bd1829-b6e1-4b3a-aa54-6f71c4037abd"
      },
      "execution_count": null,
      "outputs": [
        {
          "output_type": "stream",
          "name": "stdout",
          "text": [
            "Original label: 9\n",
            "After conversion to one-hot: [0. 0. 0. 0. 0. 0. 0. 0. 0. 1.]\n"
          ]
        }
      ]
    },
    {
      "cell_type": "code",
      "source": [
        "from sklearn.model_selection import train_test_split\n",
        "train_X,valid_X,train_label,valid_label = train_test_split(train_X, train_Y_one_hot, test_size=0.2, random_state=13)"
      ],
      "metadata": {
        "id": "2HQ_cRYR7mbd"
      },
      "execution_count": null,
      "outputs": []
    },
    {
      "cell_type": "code",
      "source": [
        "train_X.shape,valid_X.shape,train_label.shape,valid_label.shape"
      ],
      "metadata": {
        "colab": {
          "base_uri": "https://localhost:8080/"
        },
        "id": "q9wdvxiD7o0X",
        "outputId": "54b564c8-1e39-41e5-8f9f-259e8a1f20e7"
      },
      "execution_count": null,
      "outputs": [
        {
          "output_type": "execute_result",
          "data": {
            "text/plain": [
              "((48000, 28, 28, 1), (12000, 28, 28, 1), (48000, 10), (12000, 10))"
            ]
          },
          "metadata": {},
          "execution_count": 9
        }
      ]
    },
    {
      "cell_type": "code",
      "source": [
        "from tensorflow import keras\n",
        "from keras.models import Sequential,Input,Model\n",
        "from keras.layers import Dense, Dropout, Flatten\n",
        "from keras.layers import Conv2D, MaxPooling2D\n",
        "from keras.layers import BatchNormalization\n",
        "from keras.layers.advanced_activations import LeakyReLU"
      ],
      "metadata": {
        "id": "sw5-zxKY7rLC"
      },
      "execution_count": null,
      "outputs": []
    },
    {
      "cell_type": "code",
      "source": [
        "batch_size = 64\n",
        "epochs = 20\n",
        "num_classes = 10"
      ],
      "metadata": {
        "id": "c3Ck6mp77sG6"
      },
      "execution_count": null,
      "outputs": []
    },
    {
      "cell_type": "code",
      "source": [
        "fashion_model = Sequential()\n",
        "fashion_model.add(Conv2D(32, kernel_size=(3,3),activation='linear',input_shape=(28,28,1),padding='same'))\n",
        "fashion_model.add(LeakyReLU(alpha=0.1))\n",
        "fashion_model.add(MaxPooling2D((2, 2),padding='same'))\n",
        "fashion_model.add(Conv2D(64, (3, 3), activation='linear',padding='same'))\n",
        "fashion_model.add(LeakyReLU(alpha=0.1))\n",
        "fashion_model.add(MaxPooling2D(pool_size=(2, 2),padding='same'))\n",
        "fashion_model.add(Conv2D(128, (3, 3), activation='linear',padding='same'))\n",
        "fashion_model.add(LeakyReLU(alpha=0.1))\n",
        "fashion_model.add(MaxPooling2D(pool_size=(2, 2),padding='same'))\n",
        "fashion_model.add(Flatten())\n",
        "fashion_model.add(Dense(128, activation='linear'))\n",
        "fashion_model.add(LeakyReLU(alpha=0.1))\n",
        "fashion_model.add(Dense(num_classes, activation='softmax'))"
      ],
      "metadata": {
        "id": "xiBBpSwV7weI"
      },
      "execution_count": null,
      "outputs": []
    },
    {
      "cell_type": "code",
      "source": [
        "fashion_model.compile(loss=keras.losses.categorical_crossentropy,optimizer=keras.optimizers.Adam(),metrics=['accuracy'])"
      ],
      "metadata": {
        "id": "2jA9bC0g7ywe"
      },
      "execution_count": null,
      "outputs": []
    },
    {
      "cell_type": "code",
      "source": [
        "fashion_model.summary()"
      ],
      "metadata": {
        "colab": {
          "base_uri": "https://localhost:8080/"
        },
        "id": "XHLK2er371wF",
        "outputId": "e648de64-2dac-4a84-e200-337e80f38e96"
      },
      "execution_count": null,
      "outputs": [
        {
          "output_type": "stream",
          "name": "stdout",
          "text": [
            "Model: \"sequential\"\n",
            "_________________________________________________________________\n",
            " Layer (type)                Output Shape              Param #   \n",
            "=================================================================\n",
            " conv2d (Conv2D)             (None, 28, 28, 32)        320       \n",
            "                                                                 \n",
            " leaky_re_lu (LeakyReLU)     (None, 28, 28, 32)        0         \n",
            "                                                                 \n",
            " max_pooling2d (MaxPooling2D  (None, 14, 14, 32)       0         \n",
            " )                                                               \n",
            "                                                                 \n",
            " conv2d_1 (Conv2D)           (None, 14, 14, 64)        18496     \n",
            "                                                                 \n",
            " leaky_re_lu_1 (LeakyReLU)   (None, 14, 14, 64)        0         \n",
            "                                                                 \n",
            " max_pooling2d_1 (MaxPooling  (None, 7, 7, 64)         0         \n",
            " 2D)                                                             \n",
            "                                                                 \n",
            " conv2d_2 (Conv2D)           (None, 7, 7, 128)         73856     \n",
            "                                                                 \n",
            " leaky_re_lu_2 (LeakyReLU)   (None, 7, 7, 128)         0         \n",
            "                                                                 \n",
            " max_pooling2d_2 (MaxPooling  (None, 4, 4, 128)        0         \n",
            " 2D)                                                             \n",
            "                                                                 \n",
            " flatten (Flatten)           (None, 2048)              0         \n",
            "                                                                 \n",
            " dense (Dense)               (None, 128)               262272    \n",
            "                                                                 \n",
            " leaky_re_lu_3 (LeakyReLU)   (None, 128)               0         \n",
            "                                                                 \n",
            " dense_1 (Dense)             (None, 10)                1290      \n",
            "                                                                 \n",
            "=================================================================\n",
            "Total params: 356,234\n",
            "Trainable params: 356,234\n",
            "Non-trainable params: 0\n",
            "_________________________________________________________________\n"
          ]
        }
      ]
    },
    {
      "cell_type": "code",
      "source": [
        "fashion_train = fashion_model.fit(train_X, train_label, batch_size=batch_size,epochs=epochs,verbose=1,validation_data=(valid_X, valid_label))"
      ],
      "metadata": {
        "colab": {
          "base_uri": "https://localhost:8080/"
        },
        "id": "M9pnzFs675_f",
        "outputId": "3d172d5f-ee74-4794-90c2-429f5cf56e40"
      },
      "execution_count": null,
      "outputs": [
        {
          "output_type": "stream",
          "name": "stdout",
          "text": [
            "Epoch 1/20\n",
            "750/750 [==============================] - 122s 160ms/step - loss: 0.4703 - accuracy: 0.8298 - val_loss: 0.3298 - val_accuracy: 0.8809\n",
            "Epoch 2/20\n",
            "750/750 [==============================] - 107s 143ms/step - loss: 0.2953 - accuracy: 0.8917 - val_loss: 0.2888 - val_accuracy: 0.8926\n",
            "Epoch 3/20\n",
            "750/750 [==============================] - 91s 122ms/step - loss: 0.2457 - accuracy: 0.9091 - val_loss: 0.2593 - val_accuracy: 0.9028\n",
            "Epoch 4/20\n",
            "750/750 [==============================] - 91s 122ms/step - loss: 0.2144 - accuracy: 0.9204 - val_loss: 0.2483 - val_accuracy: 0.9070\n",
            "Epoch 5/20\n",
            "750/750 [==============================] - 90s 120ms/step - loss: 0.1878 - accuracy: 0.9303 - val_loss: 0.2396 - val_accuracy: 0.9137\n",
            "Epoch 6/20\n",
            "750/750 [==============================] - 91s 122ms/step - loss: 0.1632 - accuracy: 0.9394 - val_loss: 0.2234 - val_accuracy: 0.9191\n",
            "Epoch 7/20\n",
            "750/750 [==============================] - 91s 121ms/step - loss: 0.1422 - accuracy: 0.9474 - val_loss: 0.2286 - val_accuracy: 0.9237\n",
            "Epoch 8/20\n",
            "750/750 [==============================] - 90s 120ms/step - loss: 0.1249 - accuracy: 0.9534 - val_loss: 0.2684 - val_accuracy: 0.9107\n",
            "Epoch 9/20\n",
            "750/750 [==============================] - 90s 121ms/step - loss: 0.1062 - accuracy: 0.9608 - val_loss: 0.2670 - val_accuracy: 0.9150\n",
            "Epoch 10/20\n",
            "750/750 [==============================] - 90s 121ms/step - loss: 0.0913 - accuracy: 0.9661 - val_loss: 0.2872 - val_accuracy: 0.9146\n",
            "Epoch 11/20\n",
            "750/750 [==============================] - 90s 121ms/step - loss: 0.0764 - accuracy: 0.9712 - val_loss: 0.2862 - val_accuracy: 0.9212\n",
            "Epoch 12/20\n",
            "750/750 [==============================] - 91s 121ms/step - loss: 0.0658 - accuracy: 0.9747 - val_loss: 0.3160 - val_accuracy: 0.9212\n",
            "Epoch 13/20\n",
            "750/750 [==============================] - 91s 121ms/step - loss: 0.0573 - accuracy: 0.9786 - val_loss: 0.3239 - val_accuracy: 0.9163\n",
            "Epoch 14/20\n",
            "750/750 [==============================] - 90s 120ms/step - loss: 0.0526 - accuracy: 0.9804 - val_loss: 0.3363 - val_accuracy: 0.9223\n",
            "Epoch 15/20\n",
            "750/750 [==============================] - 90s 121ms/step - loss: 0.0460 - accuracy: 0.9831 - val_loss: 0.4039 - val_accuracy: 0.9168\n",
            "Epoch 16/20\n",
            "750/750 [==============================] - 90s 120ms/step - loss: 0.0385 - accuracy: 0.9859 - val_loss: 0.4148 - val_accuracy: 0.9154\n",
            "Epoch 17/20\n",
            "750/750 [==============================] - 91s 122ms/step - loss: 0.0391 - accuracy: 0.9854 - val_loss: 0.3813 - val_accuracy: 0.9202\n",
            "Epoch 18/20\n",
            "750/750 [==============================] - 91s 121ms/step - loss: 0.0359 - accuracy: 0.9868 - val_loss: 0.4160 - val_accuracy: 0.9197\n",
            "Epoch 19/20\n",
            "750/750 [==============================] - 91s 121ms/step - loss: 0.0315 - accuracy: 0.9889 - val_loss: 0.4664 - val_accuracy: 0.9183\n",
            "Epoch 20/20\n",
            "750/750 [==============================] - 92s 122ms/step - loss: 0.0311 - accuracy: 0.9890 - val_loss: 0.4917 - val_accuracy: 0.9158\n"
          ]
        }
      ]
    },
    {
      "cell_type": "code",
      "source": [
        "test_eval = fashion_model.evaluate(test_X, test_Y_one_hot, verbose=0)\n",
        "print('Test loss:', test_eval[0])\n",
        "print('Test accuracy:', test_eval[1])"
      ],
      "metadata": {
        "colab": {
          "base_uri": "https://localhost:8080/"
        },
        "id": "tyoKMJh18kY1",
        "outputId": "fa91c54e-5749-49bd-c1b6-34f0aec683a0"
      },
      "execution_count": null,
      "outputs": [
        {
          "output_type": "stream",
          "name": "stdout",
          "text": [
            "Test loss: 0.5223481059074402\n",
            "Test accuracy: 0.9096999764442444\n"
          ]
        }
      ]
    },
    {
      "cell_type": "code",
      "source": [
        "accuracy = fashion_train.history['accuracy']\n",
        "val_accuracy = fashion_train.history['val_accuracy']\n",
        "loss = fashion_train.history['loss']\n",
        "val_loss = fashion_train.history['val_loss']\n",
        "epochs = range(len(accuracy))\n",
        "plt.plot(epochs, accuracy, 'bo', label='Training accuracy')\n",
        "plt.plot(epochs, val_accuracy, 'b', label='Validation accuracy')\n",
        "plt.title('Training and validation accuracy')\n",
        "plt.legend()\n",
        "plt.figure()\n",
        "plt.plot(epochs, loss, 'bo', label='Training loss')\n",
        "plt.plot(epochs, val_loss, 'b', label='Validation loss')\n",
        "plt.title('Training and validation loss')\n",
        "plt.legend()\n",
        "plt.show()"
      ],
      "metadata": {
        "colab": {
          "base_uri": "https://localhost:8080/",
          "height": 545
        },
        "id": "xH4oVrcK8qlr",
        "outputId": "acfddf1c-0b61-48c6-ca06-80620b0a1f28"
      },
      "execution_count": null,
      "outputs": [
        {
          "output_type": "display_data",
          "data": {
            "text/plain": [
              "<Figure size 432x288 with 1 Axes>"
            ],
            "image/png": "[encoded data removed]"
          },
          "metadata": {
            "needs_background": "light"
          }
        },
        {
          "output_type": "display_data",
          "data": {
            "text/plain": [
              "<Figure size 432x288 with 1 Axes>"
            ],
            "image/png": "[encoded data removed]"
          },
          "metadata": {
            "needs_background": "light"
          }
        }
      ]
    },
    {
      "cell_type": "code",
      "source": [
        "batch_size = 64\n",
        "epochs = 20\n",
        "num_classes = 10\n",
        "fashion_model = Sequential()\n",
        "fashion_model.add(Conv2D(32, kernel_size=(3,3),activation='linear',padding='same',input_shape=(28,28,1)))\n",
        "fashion_model.add(LeakyReLU(alpha=0.1))\n",
        "fashion_model.add(MaxPooling2D((2, 2),padding='same'))\n",
        "fashion_model.add(Dropout(0.25))\n",
        "fashion_model.add(Conv2D(64, (3, 3), activation='linear',padding='same'))\n",
        "fashion_model.add(LeakyReLU(alpha=0.1))\n",
        "fashion_model.add(MaxPooling2D(pool_size=(2, 2),padding='same'))\n",
        "fashion_model.add(Dropout(0.25))\n",
        "fashion_model.add(Conv2D(128, (3, 3), activation='linear',padding='same'))\n",
        "fashion_model.add(LeakyReLU(alpha=0.1))\n",
        "fashion_model.add(MaxPooling2D(pool_size=(2, 2),padding='same'))\n",
        "fashion_model.add(Dropout(0.4))\n",
        "fashion_model.add(Flatten())\n",
        "fashion_model.add(Dense(128, activation='linear'))\n",
        "fashion_model.add(LeakyReLU(alpha=0.1))\n",
        "fashion_model.add(Dropout(0.3))\n",
        "fashion_model.add(Dense(num_classes, activation='softmax'))\n",
        "fashion_model.summary()"
      ],
      "metadata": {
        "colab": {
          "base_uri": "https://localhost:8080/"
        },
        "id": "SA3nIKIh8rrb",
        "outputId": "fb7099c4-924d-4f6f-cee3-ad4584b12123"
      },
      "execution_count": null,
      "outputs": [
        {
          "output_type": "stream",
          "name": "stdout",
          "text": [
            "Model: \"sequential_1\"\n",
            "_________________________________________________________________\n",
            " Layer (type)                Output Shape              Param #   \n",
            "=================================================================\n",
            " conv2d_3 (Conv2D)           (None, 28, 28, 32)        320       \n",
            "                                                                 \n",
            " leaky_re_lu_4 (LeakyReLU)   (None, 28, 28, 32)        0         \n",
            "                                                                 \n",
            " max_pooling2d_3 (MaxPooling  (None, 14, 14, 32)       0         \n",
            " 2D)                                                             \n",
            "                                                                 \n",
            " dropout (Dropout)           (None, 14, 14, 32)        0         \n",
            "                                                                 \n",
            " conv2d_4 (Conv2D)           (None, 14, 14, 64)        18496     \n",
            "                                                                 \n",
            " leaky_re_lu_5 (LeakyReLU)   (None, 14, 14, 64)        0         \n",
            "                                                                 \n",
            " max_pooling2d_4 (MaxPooling  (None, 7, 7, 64)         0         \n",
            " 2D)                                                             \n",
            "                                                                 \n",
            " dropout_1 (Dropout)         (None, 7, 7, 64)          0         \n",
            "                                                                 \n",
            " conv2d_5 (Conv2D)           (None, 7, 7, 128)         73856     \n",
            "                                                                 \n",
            " leaky_re_lu_6 (LeakyReLU)   (None, 7, 7, 128)         0         \n",
            "                                                                 \n",
            " max_pooling2d_5 (MaxPooling  (None, 4, 4, 128)        0         \n",
            " 2D)                                                             \n",
            "                                                                 \n",
            " dropout_2 (Dropout)         (None, 4, 4, 128)         0         \n",
            "                                                                 \n",
            " flatten_1 (Flatten)         (None, 2048)              0         \n",
            "                                                                 \n",
            " dense_2 (Dense)             (None, 128)               262272    \n",
            "                                                                 \n",
            " leaky_re_lu_7 (LeakyReLU)   (None, 128)               0         \n",
            "                                                                 \n",
            " dropout_3 (Dropout)         (None, 128)               0         \n",
            "                                                                 \n",
            " dense_3 (Dense)             (None, 10)                1290      \n",
            "                                                                 \n",
            "=================================================================\n",
            "Total params: 356,234\n",
            "Trainable params: 356,234\n",
            "Non-trainable params: 0\n",
            "_________________________________________________________________\n"
          ]
        }
      ]
    },
    {
      "cell_type": "code",
      "source": [
        "fashion_model.compile(loss=keras.losses.categorical_crossentropy,optimizer=keras.optimizers.Adam(),metrics=['accuracy'])\n",
        "fashion_train_dropout = fashion_model.fit(train_X, train_label, batch_size=batch_size,epochs=epochs,verbose=1,validation_data=(valid_X, valid_label))"
      ],
      "metadata": {
        "colab": {
          "base_uri": "https://localhost:8080/"
        },
        "id": "yDQXsZ1B8upU",
        "outputId": "bc3c934e-26c8-4c25-83e3-6f0b1bf6a7f5"
      },
      "execution_count": null,
      "outputs": [
        {
          "output_type": "stream",
          "name": "stdout",
          "text": [
            "Epoch 1/20\n",
            "750/750 [==============================] - 94s 124ms/step - loss: 1.0078 - accuracy: 0.6157 - val_loss: 114.6064 - val_accuracy: 0.5325\n",
            "Epoch 2/20\n",
            "750/750 [==============================] - 92s 122ms/step - loss: 0.5949 - accuracy: 0.7746 - val_loss: 75.3287 - val_accuracy: 0.6252\n",
            "Epoch 3/20\n",
            "750/750 [==============================] - 92s 122ms/step - loss: 0.5104 - accuracy: 0.8081 - val_loss: 71.6571 - val_accuracy: 0.6643\n",
            "Epoch 4/20\n",
            "750/750 [==============================] - 92s 122ms/step - loss: 0.4587 - accuracy: 0.8275 - val_loss: 59.6387 - val_accuracy: 0.7030\n",
            "Epoch 5/20\n",
            "750/750 [==============================] - 92s 122ms/step - loss: 0.4228 - accuracy: 0.8390 - val_loss: 56.5594 - val_accuracy: 0.7315\n",
            "Epoch 6/20\n",
            "750/750 [==============================] - 92s 122ms/step - loss: 0.3981 - accuracy: 0.8497 - val_loss: 44.8865 - val_accuracy: 0.7710\n",
            "Epoch 7/20\n",
            "750/750 [==============================] - 92s 122ms/step - loss: 0.3849 - accuracy: 0.8535 - val_loss: 53.5815 - val_accuracy: 0.7669\n",
            "Epoch 8/20\n",
            "750/750 [==============================] - 92s 122ms/step - loss: 0.3721 - accuracy: 0.8610 - val_loss: 53.0273 - val_accuracy: 0.7746\n",
            "Epoch 9/20\n",
            "750/750 [==============================] - 92s 122ms/step - loss: 0.3608 - accuracy: 0.8649 - val_loss: 62.9148 - val_accuracy: 0.7483\n",
            "Epoch 10/20\n",
            "750/750 [==============================] - 92s 122ms/step - loss: 0.3497 - accuracy: 0.8680 - val_loss: 56.4856 - val_accuracy: 0.7766\n",
            "Epoch 11/20\n",
            "750/750 [==============================] - 93s 124ms/step - loss: 0.3436 - accuracy: 0.8704 - val_loss: 48.8142 - val_accuracy: 0.7771\n",
            "Epoch 12/20\n",
            "750/750 [==============================] - 93s 124ms/step - loss: 0.3335 - accuracy: 0.8738 - val_loss: 62.0126 - val_accuracy: 0.7692\n",
            "Epoch 13/20\n",
            "750/750 [==============================] - 92s 123ms/step - loss: 0.3235 - accuracy: 0.8781 - val_loss: 51.8338 - val_accuracy: 0.7726\n",
            "Epoch 14/20\n",
            "750/750 [==============================] - 92s 122ms/step - loss: 0.3209 - accuracy: 0.8786 - val_loss: 64.9706 - val_accuracy: 0.7642\n",
            "Epoch 15/20\n",
            "750/750 [==============================] - 92s 123ms/step - loss: 0.3146 - accuracy: 0.8811 - val_loss: 66.7826 - val_accuracy: 0.7563\n",
            "Epoch 16/20\n",
            "750/750 [==============================] - 93s 123ms/step - loss: 0.3098 - accuracy: 0.8832 - val_loss: 53.9135 - val_accuracy: 0.7831\n",
            "Epoch 17/20\n",
            "750/750 [==============================] - 93s 124ms/step - loss: 0.3040 - accuracy: 0.8851 - val_loss: 60.9629 - val_accuracy: 0.7466\n",
            "Epoch 18/20\n",
            "750/750 [==============================] - 93s 124ms/step - loss: 0.3009 - accuracy: 0.8861 - val_loss: 57.0124 - val_accuracy: 0.7679\n",
            "Epoch 19/20\n",
            "750/750 [==============================] - 93s 124ms/step - loss: 0.2956 - accuracy: 0.8888 - val_loss: 46.0032 - val_accuracy: 0.7696\n",
            "Epoch 20/20\n",
            "750/750 [==============================] - 93s 124ms/step - loss: 0.2913 - accuracy: 0.8895 - val_loss: 66.1020 - val_accuracy: 0.7646\n"
          ]
        }
      ]
    },
    {
      "cell_type": "code",
      "source": [
        "fashion_model.save(\"fashion_model_dropout.h5py\")"
      ],
      "metadata": {
        "colab": {
          "base_uri": "https://localhost:8080/"
        },
        "id": "piBDUG1_8yVv",
        "outputId": "6ab10cf4-c1f7-4edc-fe48-9beae18c63d1"
      },
      "execution_count": null,
      "outputs": [
        {
          "output_type": "stream",
          "name": "stdout",
          "text": [
            "INFO:tensorflow:Assets written to: fashion_model_dropout.h5py/assets\n"
          ]
        }
      ]
    },
    {
      "cell_type": "code",
      "source": [
        "test_eval = fashion_model.evaluate(test_X, test_Y_one_hot, verbose=1)"
      ],
      "metadata": {
        "colab": {
          "base_uri": "https://localhost:8080/"
        },
        "id": "fQWt0ICj81iD",
        "outputId": "559077f4-21ce-425f-c3eb-7e25c8eb1601"
      },
      "execution_count": null,
      "outputs": [
        {
          "output_type": "stream",
          "name": "stdout",
          "text": [
            "313/313 [==============================] - 7s 22ms/step - loss: 0.2879 - accuracy: 0.8946\n"
          ]
        }
      ]
    },
    {
      "cell_type": "code",
      "source": [
        "print('Test loss:', test_eval[0])\n",
        "print('Test accuracy:', test_eval[1])"
      ],
      "metadata": {
        "colab": {
          "base_uri": "https://localhost:8080/"
        },
        "id": "l40iLZgG847C",
        "outputId": "2e64ceec-1118-4eea-c73b-965ceeb1b154"
      },
      "execution_count": null,
      "outputs": [
        {
          "output_type": "stream",
          "name": "stdout",
          "text": [
            "Test loss: 0.28786346316337585\n",
            "Test accuracy: 0.894599974155426\n"
          ]
        }
      ]
    },
    {
      "cell_type": "code",
      "source": [
        "accuracy = fashion_train_dropout.history['accuracy']\n",
        "val_accuracy = fashion_train_dropout.history['val_accuracy']\n",
        "loss = fashion_train_dropout.history['loss']\n",
        "val_loss = fashion_train_dropout.history['val_loss']\n",
        "epochs = range(len(accuracy))\n",
        "plt.plot(epochs, accuracy, 'bo', label='Training accuracy')\n",
        "plt.plot(epochs, val_accuracy, 'b', label='Validation accuracy')\n",
        "plt.title('Training and validation accuracy')\n",
        "plt.legend()\n",
        "plt.figure()\n",
        "plt.plot(epochs, loss, 'bo', label='Training loss')\n",
        "plt.plot(epochs, val_loss, 'b', label='Validation loss')\n",
        "plt.title('Training and validation loss')\n",
        "plt.legend()\n",
        "plt.show()"
      ],
      "metadata": {
        "colab": {
          "base_uri": "https://localhost:8080/",
          "height": 545
        },
        "id": "_jrZl1Eg88Vs",
        "outputId": "5045a795-4e67-4147-aaa2-e5a52cd1b1cd"
      },
      "execution_count": null,
      "outputs": [
        {
          "output_type": "display_data",
          "data": {
            "text/plain": [
              "<Figure size 432x288 with 1 Axes>"
            ],
            "image/png": "[encoded data removed]"
          },
          "metadata": {
            "needs_background": "light"
          }
        },
        {
          "output_type": "display_data",
          "data": {
            "text/plain": [
              "<Figure size 432x288 with 1 Axes>"
            ],
            "image/png": "[encoded data removed]"
          },
          "metadata": {
            "needs_background": "light"
          }
        }
      ]
    },
    {
      "cell_type": "code",
      "source": [
        "predicted_classes = fashion_model.predict(test_X)"
      ],
      "metadata": {
        "id": "ebSxu3U79A4d"
      },
      "execution_count": null,
      "outputs": []
    },
    {
      "cell_type": "code",
      "source": [
        "predicted_classes = np.argmax(np.round(predicted_classes),axis=1)\n",
        "predicted_classes.shape, test_Y.shape"
      ],
      "metadata": {
        "colab": {
          "base_uri": "https://localhost:8080/"
        },
        "id": "7zSMV8nn9DBC",
        "outputId": "3824ecd0-8880-4bf8-ea94-947681751424"
      },
      "execution_count": null,
      "outputs": [
        {
          "output_type": "execute_result",
          "data": {
            "text/plain": [
              "((10000,), (10000,))"
            ]
          },
          "metadata": {},
          "execution_count": 27
        }
      ]
    },
    {
      "cell_type": "code",
      "source": [
        "correct = np.where(predicted_classes==test_Y)[0]\n",
        "print(\"Found %d correct labels\" % len(correct))\n",
        "for i, correct in enumerate(correct[:9]):\n",
        "    plt.subplot(3,3,i+1)\n",
        "    plt.imshow(test_X[correct].reshape(28,28), cmap='gray',interpolation='none')\n",
        "    plt.title(\"Predicted {}, Class {}\".format(predicted_classes[correct],test_Y[correct]))\n",
        "    plt.tight_layout()"
      ],
      "metadata": {
        "colab": {
          "base_uri": "https://localhost:8080/",
          "height": 315
        },
        "id": "FoGjOjQt9Fea",
        "outputId": "a6f97d5d-9b09-45e0-b213-b590a996f944"
      },
      "execution_count": null,
      "outputs": [
        {
          "output_type": "stream",
          "name": "stdout",
          "text": [
            "Found 8846 correct labels\n"
          ]
        },
        {
          "output_type": "display_data",
          "data": {
            "text/plain": [
              "<Figure size 432x288 with 9 Axes>"
            ],
            "image/png": "[encoded data removed]"
          },
          "metadata": {
            "needs_background": "light"
          }
        }
      ]
    },
    {
      "cell_type": "code",
      "source": [
        "incorrect = np.where(predicted_classes!=test_Y)[0]\n",
        "print(\"Found %d incorrect labels\" % len(incorrect))\n",
        "for i, incorrect in enumerate(incorrect[:9]):\n",
        "    plt.subplot(3,3,i+1)\n",
        "    plt.imshow(test_X[incorrect].reshape(28,28), cmap='gray',interpolation='none')\n",
        "    plt.title(\"Predicted {}, Class {}\".format(predicted_classes[incorrect],test_Y[incorrect]))\n",
        "    plt.tight_layout()"
      ],
      "metadata": {
        "colab": {
          "base_uri": "https://localhost:8080/",
          "height": 315
        },
        "id": "ejE-jhMj9HTp",
        "outputId": "f63896ee-71f6-4e4b-f0ba-c04aa0040e5a"
      },
      "execution_count": null,
      "outputs": [
        {
          "output_type": "stream",
          "name": "stdout",
          "text": [
            "Found 1154 incorrect labels\n"
          ]
        },
        {
          "output_type": "display_data",
          "data": {
            "text/plain": [
              "<Figure size 432x288 with 9 Axes>"
            ],
            "image/png": "[encoded data removed]"
          },
          "metadata": {
            "needs_background": "light"
          }
        }
      ]
    },
    {
      "cell_type": "code",
      "source": [
        "from sklearn.metrics import classification_report\n",
        "target_names = [\"Class {}\".format(i) for i in range(num_classes)]\n",
        "print(classification_report(test_Y, predicted_classes,target_names=target_names))"
      ],
      "metadata": {
        "colab": {
          "base_uri": "https://localhost:8080/"
        },
        "id": "wv8kCDgz9JvX",
        "outputId": "710c38d2-846a-4347-9790-4b5760178cc2"
      },
      "execution_count": null,
      "outputs": [
        {
          "output_type": "stream",
          "name": "stdout",
          "text": [
            "              precision    recall  f1-score   support\n",
            "\n",
            "     Class 0       0.66      0.93      0.77      1000\n",
            "     Class 1       0.99      0.98      0.99      1000\n",
            "     Class 2       0.81      0.83      0.82      1000\n",
            "     Class 3       0.93      0.88      0.91      1000\n",
            "     Class 4       0.82      0.83      0.82      1000\n",
            "     Class 5       0.99      0.97      0.98      1000\n",
            "     Class 6       0.83      0.53      0.64      1000\n",
            "     Class 7       0.94      0.97      0.96      1000\n",
            "     Class 8       0.98      0.97      0.98      1000\n",
            "     Class 9       0.97      0.96      0.97      1000\n",
            "\n",
            "    accuracy                           0.88     10000\n",
            "   macro avg       0.89      0.88      0.88     10000\n",
            "weighted avg       0.89      0.88      0.88     10000\n",
            "\n"
          ]
        }
      ]
    },
    {
      "cell_type": "code",
      "source": [],
      "metadata": {
        "id": "u97IPPjR9MTM"
      },
      "execution_count": null,
      "outputs": []
    }
  ]
}